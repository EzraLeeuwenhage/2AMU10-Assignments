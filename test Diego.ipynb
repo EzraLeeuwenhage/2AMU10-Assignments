{
 "cells": [
  {
   "cell_type": "code",
   "execution_count": 1,
   "id": "a38fcf0b",
   "metadata": {},
   "outputs": [
    {
     "name": "stdout",
     "output_type": "stream",
     "text": [
      "usage: simulate_game.py [-h] [--first FIRST] [--second SECOND] [--time TIME]\n",
      "                        [--check] [--board FILE] [--quiet]\n",
      "\n",
      "Script for simulating a competitive sudoku game.\n",
      "\n",
      "optional arguments:\n",
      "  -h, --help       show this help message and exit\n",
      "  --first FIRST    the module name of the first player's SudokuAI class\n",
      "                   (default: random_player)\n",
      "  --second SECOND  the module name of the second player's SudokuAI class\n",
      "                   (default: random_player)\n",
      "  --time TIME      the time (in seconds) for computing a move (default: 0.5)\n",
      "  --check          check if the solve_sudoku program works\n",
      "  --board FILE     a text file containing the start position\n",
      "  --quiet          print minimal output\n"
     ]
    }
   ],
   "source": [
    "%run simulate_game.py --help"
   ]
  },
  {
   "cell_type": "code",
   "execution_count": 3,
   "id": "9ed7aaa3",
   "metadata": {},
   "outputs": [
    {
     "ename": "RuntimeError",
     "evalue": "No oracle found at location \"bin/solve_sudoku\"",
     "output_type": "error",
     "traceback": [
      "\u001b[0;31m---------------------------------------------------------------------------\u001b[0m",
      "\u001b[0;31mRuntimeError\u001b[0m                              Traceback (most recent call last)",
      "File \u001b[0;32m~/2AMU10-Assignments/simulate_game.py:199\u001b[0m\n\u001b[1;32m    195\u001b[0m         play_game(args\u001b[38;5;241m.\u001b[39mboard, args\u001b[38;5;241m.\u001b[39mfirst, args\u001b[38;5;241m.\u001b[39msecond, args\u001b[38;5;241m.\u001b[39mtime, verbose \u001b[38;5;241m=\u001b[39m \u001b[38;5;129;01mnot\u001b[39;00m args\u001b[38;5;241m.\u001b[39mquiet)\n\u001b[1;32m    198\u001b[0m \u001b[38;5;28;01mif\u001b[39;00m \u001b[38;5;18m__name__\u001b[39m \u001b[38;5;241m==\u001b[39m \u001b[38;5;124m'\u001b[39m\u001b[38;5;124m__main__\u001b[39m\u001b[38;5;124m'\u001b[39m:\n\u001b[0;32m--> 199\u001b[0m     \u001b[43mmain\u001b[49m\u001b[43m(\u001b[49m\u001b[43m)\u001b[49m\n",
      "File \u001b[0;32m~/2AMU10-Assignments/simulate_game.py:193\u001b[0m, in \u001b[0;36mmain\u001b[0;34m()\u001b[0m\n\u001b[1;32m    190\u001b[0m args \u001b[38;5;241m=\u001b[39m cmdline_parser\u001b[38;5;241m.\u001b[39mparse_args()\n\u001b[1;32m    192\u001b[0m \u001b[38;5;28;01mif\u001b[39;00m args\u001b[38;5;241m.\u001b[39mcheck:\n\u001b[0;32m--> 193\u001b[0m     \u001b[43mcheck_oracle\u001b[49m\u001b[43m(\u001b[49m\u001b[43m)\u001b[49m\n\u001b[1;32m    194\u001b[0m \u001b[38;5;28;01melse\u001b[39;00m:\n\u001b[1;32m    195\u001b[0m     play_game(args\u001b[38;5;241m.\u001b[39mboard, args\u001b[38;5;241m.\u001b[39mfirst, args\u001b[38;5;241m.\u001b[39msecond, args\u001b[38;5;241m.\u001b[39mtime, verbose \u001b[38;5;241m=\u001b[39m \u001b[38;5;129;01mnot\u001b[39;00m args\u001b[38;5;241m.\u001b[39mquiet)\n",
      "File \u001b[0;32m~/2AMU10-Assignments/simulate_game.py:33\u001b[0m, in \u001b[0;36mcheck_oracle\u001b[0;34m()\u001b[0m\n\u001b[1;32m     26\u001b[0m \u001b[38;5;28;01mdef\u001b[39;00m \u001b[38;5;21mcheck_oracle\u001b[39m() \u001b[38;5;241m-\u001b[39m\u001b[38;5;241m>\u001b[39m \u001b[38;5;28;01mNone\u001b[39;00m:\n\u001b[1;32m     27\u001b[0m     board_text \u001b[38;5;241m=\u001b[39m \u001b[38;5;124m'''\u001b[39m\u001b[38;5;124m2 2\u001b[39m\n\u001b[1;32m     28\u001b[0m \u001b[38;5;124m       1   2   3   4\u001b[39m\n\u001b[1;32m     29\u001b[0m \u001b[38;5;124m       3   4   .   2\u001b[39m\n\u001b[1;32m     30\u001b[0m \u001b[38;5;124m       2   1   .   3\u001b[39m\n\u001b[1;32m     31\u001b[0m \u001b[38;5;124m       .   .   .   1\u001b[39m\n\u001b[1;32m     32\u001b[0m \u001b[38;5;124m    \u001b[39m\u001b[38;5;124m'''\u001b[39m\n\u001b[0;32m---> 33\u001b[0m     output \u001b[38;5;241m=\u001b[39m \u001b[43msolve_sudoku\u001b[49m\u001b[43m(\u001b[49m\u001b[43mSUDOKU_SOLVER\u001b[49m\u001b[43m,\u001b[49m\u001b[43m \u001b[49m\u001b[43mboard_text\u001b[49m\u001b[43m)\u001b[49m\n\u001b[1;32m     34\u001b[0m     result \u001b[38;5;241m=\u001b[39m \u001b[38;5;124m'\u001b[39m\u001b[38;5;124mhas a solution\u001b[39m\u001b[38;5;124m'\u001b[39m \u001b[38;5;129;01min\u001b[39;00m output\n\u001b[1;32m     35\u001b[0m     \u001b[38;5;28;01mif\u001b[39;00m result:\n",
      "File \u001b[0;32m~/2AMU10-Assignments/competitive_sudoku/execute.py:35\u001b[0m, in \u001b[0;36msolve_sudoku\u001b[0;34m(solve_sudoku_path, board_text, options)\u001b[0m\n\u001b[1;32m     27\u001b[0m \u001b[38;5;250m\u001b[39m\u001b[38;5;124;03m\"\"\"\u001b[39;00m\n\u001b[1;32m     28\u001b[0m \u001b[38;5;124;03mExecute the solve_sudoku program.\u001b[39;00m\n\u001b[1;32m     29\u001b[0m \u001b[38;5;124;03m@param solve_sudoku_path: The location of the solve_sudoku executable.\u001b[39;00m\n\u001b[0;32m   (...)\u001b[0m\n\u001b[1;32m     32\u001b[0m \u001b[38;5;124;03m@return: The output of solve_sudoku.\u001b[39;00m\n\u001b[1;32m     33\u001b[0m \u001b[38;5;124;03m\"\"\"\u001b[39;00m\n\u001b[1;32m     34\u001b[0m \u001b[38;5;28;01mif\u001b[39;00m \u001b[38;5;129;01mnot\u001b[39;00m os\u001b[38;5;241m.\u001b[39mpath\u001b[38;5;241m.\u001b[39mexists(solve_sudoku_path):\n\u001b[0;32m---> 35\u001b[0m     \u001b[38;5;28;01mraise\u001b[39;00m \u001b[38;5;167;01mRuntimeError\u001b[39;00m(\u001b[38;5;124mf\u001b[39m\u001b[38;5;124m'\u001b[39m\u001b[38;5;124mNo oracle found at location \u001b[39m\u001b[38;5;124m\"\u001b[39m\u001b[38;5;132;01m{\u001b[39;00msolve_sudoku_path\u001b[38;5;132;01m}\u001b[39;00m\u001b[38;5;124m\"\u001b[39m\u001b[38;5;124m'\u001b[39m)\n\u001b[1;32m     36\u001b[0m filename \u001b[38;5;241m=\u001b[39m tempfile\u001b[38;5;241m.\u001b[39mNamedTemporaryFile(prefix\u001b[38;5;241m=\u001b[39m\u001b[38;5;124m'\u001b[39m\u001b[38;5;124msolve_sudoku_\u001b[39m\u001b[38;5;124m'\u001b[39m)\u001b[38;5;241m.\u001b[39mname\n\u001b[1;32m     37\u001b[0m Path(filename)\u001b[38;5;241m.\u001b[39mwrite_text(board_text)\n",
      "\u001b[0;31mRuntimeError\u001b[0m: No oracle found at location \"bin/solve_sudoku\""
     ]
    }
   ],
   "source": [
    "%run simulate_game.py --check"
   ]
  }
 ],
 "metadata": {
  "kernelspec": {
   "display_name": "Python 3 (ipykernel)",
   "language": "python",
   "name": "python3"
  },
  "language_info": {
   "codemirror_mode": {
    "name": "ipython",
    "version": 3
   },
   "file_extension": ".py",
   "mimetype": "text/x-python",
   "name": "python",
   "nbconvert_exporter": "python",
   "pygments_lexer": "ipython3",
   "version": "3.9.2"
  }
 },
 "nbformat": 4,
 "nbformat_minor": 5
}
